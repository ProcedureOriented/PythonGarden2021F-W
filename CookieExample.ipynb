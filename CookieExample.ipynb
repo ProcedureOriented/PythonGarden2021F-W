{
 "cells": [
  {
   "cell_type": "code",
   "execution_count": 25,
   "metadata": {},
   "outputs": [
    {
     "name": "stdout",
     "output_type": "stream",
     "text": [
      "看看盒子里有什么\n",
      "['饼干1', '饼干2', '饼干3', '饼干4']\n"
     ]
    }
   ],
   "source": [
    "def reset():\n",
    "    global box\n",
    "    print(\"重新拿一盒饼干...\")\n",
    "    box=[\"饼干1\",\"饼干2\",\"饼干3\",\"饼干4\"]\n",
    "\n",
    "'''如何理解列表里的替换修改\n",
    "\n",
    "等号左右两边是对等的\n",
    "“一个”对“一个”\n",
    "“一串”对“一串”\n",
    "\n",
    "注意索引中[]和[:]的本质 \n",
    "ls[1] 本质是列表ls里的一个“元素”\n",
    "ls[1:2] 本质是列表ls里的一个“片段”（也就是一个列表，尽管它只有一个元素）\n",
    "ls[1:3] 也是ls里的一个“片段”（有两个元素的列表）\n",
    "\n",
    "注意对象的本质 有无[]\n",
    "1 是个数字\n",
    "\"一二三\" 是个字符串\n",
    "1, 是个列表"
    "[\"一二三\"] 是个单元素列表\n",
    "[\"一\",\"二\",\"三\"] 是个多元素列表\n",
    "'''\n",
    "\n",
    "box=[\"饼干1\",\"饼干2\",\"饼干3\",\"饼干4\"]\n",
    "\n",
    "print(\"看看盒子里有什么\")\n",
    "print(box)"
   ]
  },
  {
   "cell_type": "code",
   "execution_count": 13,
   "metadata": {},
   "outputs": [
    {
     "name": "stdout",
     "output_type": "stream",
     "text": [
      "把【第三个饼干】换成巧克力\n",
      "['饼干1', '饼干2', '巧克力', '饼干4']\n"
     ]
    }
   ],
   "source": [
    "# 单个换单个\n",
    "print(\"把【第三个饼干】换成巧克力\")\n",
    "box[2]=\"巧克力\"\n",
    "# 左边是“元素”，右边也恰好是一个字符串\n",
    "print(box)"
   ]
  },
  {
   "cell_type": "code",
   "execution_count": 26,
   "metadata": {},
   "outputs": [
    {
     "name": "stdout",
     "output_type": "stream",
     "text": [
      "重新拿一盒饼干...\n",
      "把【一排饼干】（第三个和第四个）换成【一排巧克力】\n",
      "['饼干1', '饼干2', '巧克力1', '巧克力2']\n"
     ]
    }
   ],
   "source": [
    "# 多个换多个\n",
    "reset()\n",
    "print(\"把【一排饼干】（第三个和第四个）换成【一排巧克力】\")\n",
    "box[2:]=[\"巧克力1\",\"巧克力2\"]\n",
    "# 左边是“列表”，右边也恰好是一个“列表”\n",
    "print(box)"
   ]
  },
  {
   "cell_type": "code",
   "execution_count": 27,
   "metadata": {},
   "outputs": [
    {
     "name": "stdout",
     "output_type": "stream",
     "text": [
      "重新拿一盒饼干...\n",
      "把【第三个饼干】换成【一排巧克力】\n",
      "['饼干1', '饼干2', ['巧克力1', '巧克力2'], '饼干4']\n",
      "重新拿一盒饼干...\n",
      "把【第三个饼干】换成【一排巧克力】\n",
      "['饼干1', '饼干2', '巧克力1', '巧克力2', '饼干4']\n"
     ]
    }
   ],
   "source": [
    "# 问题来了：单个换多个\n",
    "# 我们认为：我只是在这一排饼干里拿掉一个，然后放了几个巧克力进去。\n",
    "reset()\n",
    "print(\"把【第三个饼干】塞进【一排巧克力】\")\n",
    "box[2]=[\"巧克力1\",\"巧克力2\"]\n",
    "# python认为：左边是“一个”，所以右边也是“一个”\n",
    "# 这时候这一排巧克力是作为整体“塞”到第三个饼干格子里的\n",
    "print(box)\n",
    "\n",
    "reset()\n",
    "print(\"把【第三个饼干】换成【一排巧克力】\")\n",
    "box[2:3]=[\"巧克力1\",\"巧克力2\"]\n",
    "# 左边是“列表”，右边也恰好是一个“列表”\n",
    "# 看似奇怪，但是这样才能达到我们想要的效果\n",
    "print(box)"
   ]
  },
  {
   "cell_type": "code",
   "execution_count": 29,
   "metadata": {},
   "outputs": [
    {
     "name": "stdout",
     "output_type": "stream",
     "text": [
      "重新拿一盒饼干...\n",
      "把【一排饼干】（第三个和第四个）换成【一个巧克力】\n",
      "['饼干1', '饼干2', '巧', '克', '力']\n",
      "重新拿一盒饼干...\n",
      "把【一排饼干】（第三个和第四个）换成【一个巧克力】\n",
      "['饼干1', '饼干2', '巧克力']\n"
     ]
    }
   ],
   "source": [
    "# 问题来了：多个换单个\n",
    "# 我们认为：我只是拿掉一排饼干，然后放了一个巧克力进去。\n",
    "reset()\n",
    "print(\"把【一排饼干】（第三个和第四个）换成【一个巧克力】\")\n",
    "box[2:]=\"巧克力\"\n",
    "# python认为：左边是“列表”，所以右边也是“列表”（字符串也可以像列表一样迭代）\n",
    "# 这时候这一排巧克力被切碎了放到了好几个饼干格里\n",
    "print(box)\n",
    "\n",
    "reset()\n",
    "print(\"把【一排饼干】（第三个和第四个）换成【一个巧克力】\")\n",
    "box[2:4]=[\"巧克力\"]\n",
    "# 左边是“列表”，右边也恰好是一个“列表”\n",
    "# 看似奇怪，但是这样才能达到我们想要的效果\n",
    "print(box)"
   ]
  }
 ],
 "metadata": {
  "interpreter": {
   "hash": "32291435e3eed55719e1b9c26a38bc7bade4aa4d43f2521a790dd3f948015c4f"
  },
  "kernelspec": {
   "display_name": "Python 3.8.11 64-bit ('base': conda)",
   "name": "python3"
  },
  "language_info": {
   "codemirror_mode": {
    "name": "ipython",
    "version": 3
   },
   "file_extension": ".py",
   "mimetype": "text/x-python",
   "name": "python",
   "nbconvert_exporter": "python",
   "pygments_lexer": "ipython3",
   "version": "3.8.11"
  }
 },
 "nbformat": 4,
 "nbformat_minor": 2
}
