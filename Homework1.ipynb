{
 "cells": [
  {
   "cell_type": "code",
   "execution_count": null,
   "metadata": {},
   "outputs": [],
   "source": [
    "'''\n",
    "1. 设计程序，接收两个整数x和y，并立即输出这两个整数的和、差、乘积和商\n",
    "要求：不考虑意外情况，设计最简单的程序\n",
    "\n",
    "样例：\n",
    "请输入x：\n",
    "6\n",
    "请输入y（不能为0）：\n",
    "2\n",
    "【输出】\n",
    "x+y=8\n",
    "x-y=4\n",
    "x*y=12\n",
    "x/y=3\n",
    "'''"
   ]
  },
  {
   "cell_type": "code",
   "execution_count": null,
   "metadata": {},
   "outputs": [],
   "source": [
    "'''\n",
    "2. 设计程序，接收一个三位数，输出逆序数字\n",
    "\n",
    "样例：\n",
    "请输入一个三位数：\n",
    "135\n",
    "【输出】\n",
    "531\n",
    "'''"
   ]
  },
  {
   "cell_type": "code",
   "execution_count": null,
   "metadata": {},
   "outputs": [],
   "source": [
    "'''\n",
    "3. 在题目1中，尽管提示语注明y不能为0，但程序并没有对应的应对方案。现改写题目1，使其当y合法时进行运算，非法（y=0）时不进行运算和输出。\n",
    "要求：使用单分支结构（仅使用if，不使用elif和else）\n",
    "\n",
    "样例：\n",
    "请输入x：\n",
    "6\n",
    "请输入y（不能为0）：\n",
    "0\n",
    "【输出】\n",
    "\n",
    "'''"
   ]
  },
  {
   "cell_type": "code",
   "execution_count": null,
   "metadata": {},
   "outputs": [],
   "source": [
    "'''\n",
    "4. 改写题目3，使其当y合法时进行运算，非法（y=0）时输出提示信息。\n",
    "要求：使用双分支结构\n",
    "\n",
    "样例：\n",
    "请输入x：\n",
    "6\n",
    "请输入y（不能为0）：\n",
    "0\n",
    "【输出】\n",
    "y不能为0\n",
    "'''"
   ]
  },
  {
   "cell_type": "code",
   "execution_count": null,
   "metadata": {},
   "outputs": [],
   "source": [
    "'''\n",
    "5. 设计程序，依次接收三个系数a、b、c，输出方程a*X**2+b*X+c=0的实根。\n",
    "\n",
    "样例1：\n",
    "请输入a：\n",
    "2\n",
    "请输入b：\n",
    "1\n",
    "请输入c：\n",
    "-1\n",
    "【输出】\n",
    "0.5,-1\n",
    "\n",
    "样例2：\n",
    "请输入a：\n",
    "2\n",
    "请输入b：\n",
    "1\n",
    "请输入c：\n",
    "1\n",
    "【输出】\n",
    "没有实数根\n",
    "'''"
   ]
  },
  {
   "cell_type": "code",
   "execution_count": null,
   "metadata": {},
   "outputs": [],
   "source": [
    "'''\n",
    "6. 设计程序，接收一个整数（0~100）作为成绩，输出评级。\n",
    "评级标准：大于等于90为优，大于等于80不及90为良，大于等于70不及80为中，大于等于60不及70为及格，小于60为不及格。\n",
    "额外思考：如何使判断条件更简单？\n",
    "\n",
    "样例：\n",
    "请输入成绩（0~100）：\n",
    "90\n",
    "【输出】\n",
    "优\n",
    "'''"
   ]
  },
  {
   "cell_type": "code",
   "execution_count": null,
   "metadata": {},
   "outputs": [],
   "source": [
    "'''\n",
    "7. 阅读下列代码\n",
    "判断：当程序分别接收值为35，25，15，5时，输出的结果分别是多少？\n",
    "'''\n",
    "\n",
    "x = eval(input(\"请输入数值：\"))\n",
    "if x > 30:\n",
    "    x = x*2\n",
    "else:\n",
    "    if x > 20:\n",
    "        x = x*5\n",
    "    else:\n",
    "        if x > 10:\n",
    "            x = x *10\n",
    "        x = x+1\n",
    "    x = x+2\n",
    "print('结果是%d' %(x))"
   ]
  },
  {
   "cell_type": "code",
   "execution_count": null,
   "metadata": {},
   "outputs": [],
   "source": [
    "'''\n",
    "8. 设计一个判断闰年的程序，接收一个年份，输出是否是闰年\n",
    "规则：当年份能被4整除而不能被100整除是闰年，但是能被400整除时也是闰年。\n",
    "\n",
    "样例：\n",
    "请输入年份：\n",
    "2012\n",
    "【输出】\n",
    "闰年\n",
    "\n",
    "样例：\n",
    "请输入年份：\n",
    "1900\n",
    "【输出】\n",
    "平年\n",
    "\n",
    "样例：\n",
    "请输入年份：\n",
    "2000\n",
    "【输出】\n",
    "闰年\n",
    "'''"
   ]
  }
 ],
 "metadata": {
  "interpreter": {
   "hash": "32291435e3eed55719e1b9c26a38bc7bade4aa4d43f2521a790dd3f948015c4f"
  },
  "kernelspec": {
   "display_name": "Python 3.8.11 64-bit ('base': conda)",
   "name": "python3"
  },
  "language_info": {
   "codemirror_mode": {
    "name": "ipython",
    "version": 3
   },
   "file_extension": ".py",
   "mimetype": "text/x-python",
   "name": "python",
   "nbconvert_exporter": "python",
   "pygments_lexer": "ipython3",
   "version": "3.8.11"
  },
  "orig_nbformat": 4
 },
 "nbformat": 4,
 "nbformat_minor": 2
}
